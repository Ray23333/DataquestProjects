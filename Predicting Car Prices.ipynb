{
 "cells": [
  {
   "cell_type": "markdown",
   "metadata": {
    "collapsed": true
   },
   "source": [
    "# Predicting Car Prices"
   ]
  },
  {
   "cell_type": "markdown",
   "metadata": {},
   "source": [
    "## Import Data and 1st analysis"
   ]
  },
  {
   "cell_type": "code",
   "execution_count": 1,
   "metadata": {
    "collapsed": true
   },
   "outputs": [],
   "source": [
    "import pandas as pd\n",
    "import numpy as np\n",
    "import matplotlib.pyplot as plt\n",
    "from sklearn.neighbors import KNeighborsRegressor\n",
    "from sklearn.metrics import mean_squared_error\n",
    "from sklearn.model_selection import cross_val_score, KFold"
   ]
  },
  {
   "cell_type": "code",
   "execution_count": 2,
   "metadata": {
    "collapsed": false
   },
   "outputs": [],
   "source": [
    "cols = ['symboling', 'normalized-losses', 'make', 'fuel-type', 'aspiration', 'num-of-doors', 'body-style', \n",
    "        'drive-wheels', 'engine-location', 'wheel-base', 'length', 'width', 'height', 'curb-weight', 'engine-type', \n",
    "        'num-of-cylinders', 'engine-size', 'fuel-system', 'bore', 'stroke', 'compression-rate', 'horsepower', 'peak-rpm', 'city-mpg', 'highway-mpg', 'price']\n",
    "cars = pd.read_csv('imports-85.data', names = cols)"
   ]
  },
  {
   "cell_type": "code",
   "execution_count": 3,
   "metadata": {
    "collapsed": false
   },
   "outputs": [
    {
     "data": {
      "text/html": [
       "<div>\n",
       "<style scoped>\n",
       "    .dataframe tbody tr th:only-of-type {\n",
       "        vertical-align: middle;\n",
       "    }\n",
       "\n",
       "    .dataframe tbody tr th {\n",
       "        vertical-align: top;\n",
       "    }\n",
       "\n",
       "    .dataframe thead th {\n",
       "        text-align: right;\n",
       "    }\n",
       "</style>\n",
       "<table border=\"1\" class=\"dataframe\">\n",
       "  <thead>\n",
       "    <tr style=\"text-align: right;\">\n",
       "      <th></th>\n",
       "      <th>symboling</th>\n",
       "      <th>normalized-losses</th>\n",
       "      <th>make</th>\n",
       "      <th>fuel-type</th>\n",
       "      <th>aspiration</th>\n",
       "      <th>num-of-doors</th>\n",
       "      <th>body-style</th>\n",
       "      <th>drive-wheels</th>\n",
       "      <th>engine-location</th>\n",
       "      <th>wheel-base</th>\n",
       "      <th>...</th>\n",
       "      <th>engine-size</th>\n",
       "      <th>fuel-system</th>\n",
       "      <th>bore</th>\n",
       "      <th>stroke</th>\n",
       "      <th>compression-rate</th>\n",
       "      <th>horsepower</th>\n",
       "      <th>peak-rpm</th>\n",
       "      <th>city-mpg</th>\n",
       "      <th>highway-mpg</th>\n",
       "      <th>price</th>\n",
       "    </tr>\n",
       "  </thead>\n",
       "  <tbody>\n",
       "    <tr>\n",
       "      <th>0</th>\n",
       "      <td>3</td>\n",
       "      <td>?</td>\n",
       "      <td>alfa-romero</td>\n",
       "      <td>gas</td>\n",
       "      <td>std</td>\n",
       "      <td>two</td>\n",
       "      <td>convertible</td>\n",
       "      <td>rwd</td>\n",
       "      <td>front</td>\n",
       "      <td>88.6</td>\n",
       "      <td>...</td>\n",
       "      <td>130</td>\n",
       "      <td>mpfi</td>\n",
       "      <td>3.47</td>\n",
       "      <td>2.68</td>\n",
       "      <td>9.0</td>\n",
       "      <td>111</td>\n",
       "      <td>5000</td>\n",
       "      <td>21</td>\n",
       "      <td>27</td>\n",
       "      <td>13495</td>\n",
       "    </tr>\n",
       "    <tr>\n",
       "      <th>1</th>\n",
       "      <td>3</td>\n",
       "      <td>?</td>\n",
       "      <td>alfa-romero</td>\n",
       "      <td>gas</td>\n",
       "      <td>std</td>\n",
       "      <td>two</td>\n",
       "      <td>convertible</td>\n",
       "      <td>rwd</td>\n",
       "      <td>front</td>\n",
       "      <td>88.6</td>\n",
       "      <td>...</td>\n",
       "      <td>130</td>\n",
       "      <td>mpfi</td>\n",
       "      <td>3.47</td>\n",
       "      <td>2.68</td>\n",
       "      <td>9.0</td>\n",
       "      <td>111</td>\n",
       "      <td>5000</td>\n",
       "      <td>21</td>\n",
       "      <td>27</td>\n",
       "      <td>16500</td>\n",
       "    </tr>\n",
       "    <tr>\n",
       "      <th>2</th>\n",
       "      <td>1</td>\n",
       "      <td>?</td>\n",
       "      <td>alfa-romero</td>\n",
       "      <td>gas</td>\n",
       "      <td>std</td>\n",
       "      <td>two</td>\n",
       "      <td>hatchback</td>\n",
       "      <td>rwd</td>\n",
       "      <td>front</td>\n",
       "      <td>94.5</td>\n",
       "      <td>...</td>\n",
       "      <td>152</td>\n",
       "      <td>mpfi</td>\n",
       "      <td>2.68</td>\n",
       "      <td>3.47</td>\n",
       "      <td>9.0</td>\n",
       "      <td>154</td>\n",
       "      <td>5000</td>\n",
       "      <td>19</td>\n",
       "      <td>26</td>\n",
       "      <td>16500</td>\n",
       "    </tr>\n",
       "    <tr>\n",
       "      <th>3</th>\n",
       "      <td>2</td>\n",
       "      <td>164</td>\n",
       "      <td>audi</td>\n",
       "      <td>gas</td>\n",
       "      <td>std</td>\n",
       "      <td>four</td>\n",
       "      <td>sedan</td>\n",
       "      <td>fwd</td>\n",
       "      <td>front</td>\n",
       "      <td>99.8</td>\n",
       "      <td>...</td>\n",
       "      <td>109</td>\n",
       "      <td>mpfi</td>\n",
       "      <td>3.19</td>\n",
       "      <td>3.40</td>\n",
       "      <td>10.0</td>\n",
       "      <td>102</td>\n",
       "      <td>5500</td>\n",
       "      <td>24</td>\n",
       "      <td>30</td>\n",
       "      <td>13950</td>\n",
       "    </tr>\n",
       "    <tr>\n",
       "      <th>4</th>\n",
       "      <td>2</td>\n",
       "      <td>164</td>\n",
       "      <td>audi</td>\n",
       "      <td>gas</td>\n",
       "      <td>std</td>\n",
       "      <td>four</td>\n",
       "      <td>sedan</td>\n",
       "      <td>4wd</td>\n",
       "      <td>front</td>\n",
       "      <td>99.4</td>\n",
       "      <td>...</td>\n",
       "      <td>136</td>\n",
       "      <td>mpfi</td>\n",
       "      <td>3.19</td>\n",
       "      <td>3.40</td>\n",
       "      <td>8.0</td>\n",
       "      <td>115</td>\n",
       "      <td>5500</td>\n",
       "      <td>18</td>\n",
       "      <td>22</td>\n",
       "      <td>17450</td>\n",
       "    </tr>\n",
       "  </tbody>\n",
       "</table>\n",
       "<p>5 rows × 26 columns</p>\n",
       "</div>"
      ],
      "text/plain": [
       "   symboling normalized-losses         make fuel-type aspiration num-of-doors  \\\n",
       "0          3                 ?  alfa-romero       gas        std          two   \n",
       "1          3                 ?  alfa-romero       gas        std          two   \n",
       "2          1                 ?  alfa-romero       gas        std          two   \n",
       "3          2               164         audi       gas        std         four   \n",
       "4          2               164         audi       gas        std         four   \n",
       "\n",
       "    body-style drive-wheels engine-location  wheel-base  ...    engine-size  \\\n",
       "0  convertible          rwd           front        88.6  ...            130   \n",
       "1  convertible          rwd           front        88.6  ...            130   \n",
       "2    hatchback          rwd           front        94.5  ...            152   \n",
       "3        sedan          fwd           front        99.8  ...            109   \n",
       "4        sedan          4wd           front        99.4  ...            136   \n",
       "\n",
       "   fuel-system  bore  stroke compression-rate horsepower  peak-rpm city-mpg  \\\n",
       "0         mpfi  3.47    2.68              9.0        111      5000       21   \n",
       "1         mpfi  3.47    2.68              9.0        111      5000       21   \n",
       "2         mpfi  2.68    3.47              9.0        154      5000       19   \n",
       "3         mpfi  3.19    3.40             10.0        102      5500       24   \n",
       "4         mpfi  3.19    3.40              8.0        115      5500       18   \n",
       "\n",
       "  highway-mpg  price  \n",
       "0          27  13495  \n",
       "1          27  16500  \n",
       "2          26  16500  \n",
       "3          30  13950  \n",
       "4          22  17450  \n",
       "\n",
       "[5 rows x 26 columns]"
      ]
     },
     "execution_count": 3,
     "metadata": {},
     "output_type": "execute_result"
    }
   ],
   "source": [
    "cars.head(5)"
   ]
  },
  {
   "cell_type": "markdown",
   "metadata": {},
   "source": [
    "### Select the numeric columns and the target column is the 'Price' column"
   ]
  },
  {
   "cell_type": "code",
   "execution_count": 4,
   "metadata": {
    "collapsed": true
   },
   "outputs": [],
   "source": [
    "new_cols = ['symboling', 'normalized-losses', 'wheel-base',\n",
    "        'length', 'width', 'height', 'curb-weight',\n",
    "        'engine-size', 'bore', 'stroke', 'compression-rate',\n",
    "        'horsepower', 'peak-rpm', 'city-mpg', 'highway-mpg', 'price']"
   ]
  },
  {
   "cell_type": "code",
   "execution_count": 5,
   "metadata": {
    "collapsed": true
   },
   "outputs": [],
   "source": [
    "new_cars = cars[new_cols]"
   ]
  },
  {
   "cell_type": "code",
   "execution_count": 6,
   "metadata": {
    "collapsed": false
   },
   "outputs": [
    {
     "data": {
      "text/html": [
       "<div>\n",
       "<style scoped>\n",
       "    .dataframe tbody tr th:only-of-type {\n",
       "        vertical-align: middle;\n",
       "    }\n",
       "\n",
       "    .dataframe tbody tr th {\n",
       "        vertical-align: top;\n",
       "    }\n",
       "\n",
       "    .dataframe thead th {\n",
       "        text-align: right;\n",
       "    }\n",
       "</style>\n",
       "<table border=\"1\" class=\"dataframe\">\n",
       "  <thead>\n",
       "    <tr style=\"text-align: right;\">\n",
       "      <th></th>\n",
       "      <th>symboling</th>\n",
       "      <th>normalized-losses</th>\n",
       "      <th>wheel-base</th>\n",
       "      <th>length</th>\n",
       "      <th>width</th>\n",
       "      <th>height</th>\n",
       "      <th>curb-weight</th>\n",
       "      <th>engine-size</th>\n",
       "      <th>bore</th>\n",
       "      <th>stroke</th>\n",
       "      <th>compression-rate</th>\n",
       "      <th>horsepower</th>\n",
       "      <th>peak-rpm</th>\n",
       "      <th>city-mpg</th>\n",
       "      <th>highway-mpg</th>\n",
       "      <th>price</th>\n",
       "    </tr>\n",
       "  </thead>\n",
       "  <tbody>\n",
       "    <tr>\n",
       "      <th>0</th>\n",
       "      <td>3</td>\n",
       "      <td>?</td>\n",
       "      <td>88.6</td>\n",
       "      <td>168.8</td>\n",
       "      <td>64.1</td>\n",
       "      <td>48.8</td>\n",
       "      <td>2548</td>\n",
       "      <td>130</td>\n",
       "      <td>3.47</td>\n",
       "      <td>2.68</td>\n",
       "      <td>9.0</td>\n",
       "      <td>111</td>\n",
       "      <td>5000</td>\n",
       "      <td>21</td>\n",
       "      <td>27</td>\n",
       "      <td>13495</td>\n",
       "    </tr>\n",
       "    <tr>\n",
       "      <th>1</th>\n",
       "      <td>3</td>\n",
       "      <td>?</td>\n",
       "      <td>88.6</td>\n",
       "      <td>168.8</td>\n",
       "      <td>64.1</td>\n",
       "      <td>48.8</td>\n",
       "      <td>2548</td>\n",
       "      <td>130</td>\n",
       "      <td>3.47</td>\n",
       "      <td>2.68</td>\n",
       "      <td>9.0</td>\n",
       "      <td>111</td>\n",
       "      <td>5000</td>\n",
       "      <td>21</td>\n",
       "      <td>27</td>\n",
       "      <td>16500</td>\n",
       "    </tr>\n",
       "    <tr>\n",
       "      <th>2</th>\n",
       "      <td>1</td>\n",
       "      <td>?</td>\n",
       "      <td>94.5</td>\n",
       "      <td>171.2</td>\n",
       "      <td>65.5</td>\n",
       "      <td>52.4</td>\n",
       "      <td>2823</td>\n",
       "      <td>152</td>\n",
       "      <td>2.68</td>\n",
       "      <td>3.47</td>\n",
       "      <td>9.0</td>\n",
       "      <td>154</td>\n",
       "      <td>5000</td>\n",
       "      <td>19</td>\n",
       "      <td>26</td>\n",
       "      <td>16500</td>\n",
       "    </tr>\n",
       "    <tr>\n",
       "      <th>3</th>\n",
       "      <td>2</td>\n",
       "      <td>164</td>\n",
       "      <td>99.8</td>\n",
       "      <td>176.6</td>\n",
       "      <td>66.2</td>\n",
       "      <td>54.3</td>\n",
       "      <td>2337</td>\n",
       "      <td>109</td>\n",
       "      <td>3.19</td>\n",
       "      <td>3.40</td>\n",
       "      <td>10.0</td>\n",
       "      <td>102</td>\n",
       "      <td>5500</td>\n",
       "      <td>24</td>\n",
       "      <td>30</td>\n",
       "      <td>13950</td>\n",
       "    </tr>\n",
       "    <tr>\n",
       "      <th>4</th>\n",
       "      <td>2</td>\n",
       "      <td>164</td>\n",
       "      <td>99.4</td>\n",
       "      <td>176.6</td>\n",
       "      <td>66.4</td>\n",
       "      <td>54.3</td>\n",
       "      <td>2824</td>\n",
       "      <td>136</td>\n",
       "      <td>3.19</td>\n",
       "      <td>3.40</td>\n",
       "      <td>8.0</td>\n",
       "      <td>115</td>\n",
       "      <td>5500</td>\n",
       "      <td>18</td>\n",
       "      <td>22</td>\n",
       "      <td>17450</td>\n",
       "    </tr>\n",
       "  </tbody>\n",
       "</table>\n",
       "</div>"
      ],
      "text/plain": [
       "   symboling normalized-losses  wheel-base  length  width  height  \\\n",
       "0          3                 ?        88.6   168.8   64.1    48.8   \n",
       "1          3                 ?        88.6   168.8   64.1    48.8   \n",
       "2          1                 ?        94.5   171.2   65.5    52.4   \n",
       "3          2               164        99.8   176.6   66.2    54.3   \n",
       "4          2               164        99.4   176.6   66.4    54.3   \n",
       "\n",
       "   curb-weight  engine-size  bore stroke  compression-rate horsepower  \\\n",
       "0         2548          130  3.47   2.68               9.0        111   \n",
       "1         2548          130  3.47   2.68               9.0        111   \n",
       "2         2823          152  2.68   3.47               9.0        154   \n",
       "3         2337          109  3.19   3.40              10.0        102   \n",
       "4         2824          136  3.19   3.40               8.0        115   \n",
       "\n",
       "  peak-rpm  city-mpg  highway-mpg  price  \n",
       "0     5000        21           27  13495  \n",
       "1     5000        21           27  16500  \n",
       "2     5000        19           26  16500  \n",
       "3     5500        24           30  13950  \n",
       "4     5500        18           22  17450  "
      ]
     },
     "execution_count": 6,
     "metadata": {},
     "output_type": "execute_result"
    }
   ],
   "source": [
    "new_cars.head()"
   ]
  },
  {
   "cell_type": "code",
   "execution_count": 7,
   "metadata": {
    "collapsed": true
   },
   "outputs": [],
   "source": [
    "new_cars = new_cars.replace('?', np.nan)"
   ]
  },
  {
   "cell_type": "code",
   "execution_count": 8,
   "metadata": {
    "collapsed": true
   },
   "outputs": [],
   "source": [
    "new_cars = new_cars.dropna()"
   ]
  },
  {
   "cell_type": "code",
   "execution_count": 9,
   "metadata": {
    "collapsed": false
   },
   "outputs": [],
   "source": [
    "new_cars = new_cars.reset_index(drop = True)\n",
    "new_cars = new_cars.astype('float')"
   ]
  },
  {
   "cell_type": "code",
   "execution_count": 10,
   "metadata": {
    "collapsed": false
   },
   "outputs": [],
   "source": [
    "price_col = new_cars['price']\n",
    "new_cars = (new_cars - new_cars.min())/(new_cars.max() - new_cars.min())\n",
    "new_cars['price'] = price_col"
   ]
  },
  {
   "cell_type": "markdown",
   "metadata": {},
   "source": [
    "## Create a function and use the function to test univariate models"
   ]
  },
  {
   "cell_type": "code",
   "execution_count": 11,
   "metadata": {
    "collapsed": false
   },
   "outputs": [
    {
     "data": {
      "text/plain": [
       "curb-weight          2390.220625\n",
       "width                2412.453947\n",
       "city-mpg             2728.635704\n",
       "engine-size          2901.870073\n",
       "horsepower           2929.049689\n",
       "length               3630.238015\n",
       "highway-mpg          3769.561703\n",
       "wheel-base           3934.588779\n",
       "bore                 4059.664060\n",
       "symboling            4810.167750\n",
       "stroke               4962.983985\n",
       "normalized-losses    5170.826749\n",
       "height               5226.393339\n",
       "peak-rpm             5992.944764\n",
       "compression-rate     6303.123350\n",
       "dtype: float64"
      ]
     },
     "execution_count": 11,
     "metadata": {},
     "output_type": "execute_result"
    }
   ],
   "source": [
    "def knn_train_test(train_name, target_name, df):\n",
    "    knn = KNeighborsRegressor()\n",
    "    np.random.seed(1)\n",
    "    \n",
    "    shuffled_index = np.random.permutation(df.index)\n",
    "    rand_df = df.reindex(shuffled_index)\n",
    "    mid = int(len(rand_df) / 2)\n",
    "    \n",
    "    train_df = rand_df.iloc[0:mid]\n",
    "    test_df = rand_df.iloc[mid:]\n",
    "    \n",
    "    knn.fit(train_df[[train_name]], train_df[target_name])\n",
    "\n",
    "    labels = knn.predict(test_df[[train_name]])\n",
    "    \n",
    "    mse = mean_squared_error(test_df[target_name], labels)\n",
    "    rmse = np.sqrt(mse)\n",
    "    \n",
    "    return rmse\n",
    "\n",
    "rmse_results = {}\n",
    "tr_cols = new_cars.columns.drop('price')\n",
    "\n",
    "for i in tr_cols:\n",
    "    rmse_val = knn_train_test(i, 'price', new_cars)\n",
    "    rmse_results[i] = rmse_val\n",
    "\n",
    "rmse_results_series = pd.Series(rmse_results)\n",
    "rmse_results_series.sort_values()"
   ]
  },
  {
   "cell_type": "code",
   "execution_count": 12,
   "metadata": {
    "collapsed": false
   },
   "outputs": [
    {
     "data": {
      "text/plain": [
       "{'bore': {1: 5219.654946689484,\n",
       "  3: 4235.938102022581,\n",
       "  5: 4059.6640596852344,\n",
       "  7: 4002.400681121881,\n",
       "  9: 4170.186767085684},\n",
       " 'city-mpg': {1: 4792.334758497156,\n",
       "  3: 2878.3632376365877,\n",
       "  5: 2728.6357036988284,\n",
       "  7: 2757.3981816919295,\n",
       "  9: 2749.879896928385},\n",
       " 'compression-rate': {1: 7119.366827534594,\n",
       "  3: 6410.013216315028,\n",
       "  5: 6303.123350331961,\n",
       "  7: 5819.9107169101935,\n",
       "  9: 5575.3382629207035},\n",
       " 'curb-weight': {1: 2945.27863919528,\n",
       "  3: 2555.0087078564375,\n",
       "  5: 2390.2206252770893,\n",
       "  7: 2405.4334088025953,\n",
       "  9: 2390.3598570063996},\n",
       " 'engine-size': {1: 2892.1370774913144,\n",
       "  3: 2350.109259575913,\n",
       "  5: 2901.8700731597205,\n",
       "  7: 3409.1641829824816,\n",
       "  9: 3482.3745356189306},\n",
       " 'height': {1: 6277.936292086755,\n",
       "  3: 5189.293650820355,\n",
       "  5: 5226.393339340238,\n",
       "  7: 5391.5573114455565,\n",
       "  9: 5526.938089937321},\n",
       " 'highway-mpg': {1: 3931.1648544038444,\n",
       "  3: 3576.9725022628345,\n",
       "  5: 3769.5617029039336,\n",
       "  7: 3608.0370907481374,\n",
       "  9: 3520.026777439184},\n",
       " 'horsepower': {1: 3543.455439256997,\n",
       "  3: 2868.197852940259,\n",
       "  5: 2929.0496887215827,\n",
       "  7: 3008.414437211138,\n",
       "  9: 3018.486368239372},\n",
       " 'length': {1: 3723.113147958305,\n",
       "  3: 3828.0279148233317,\n",
       "  5: 3630.23801457976,\n",
       "  7: 3648.3794705278924,\n",
       "  9: 3524.435917961173},\n",
       " 'normalized-losses': {1: 4520.568291155439,\n",
       "  3: 4509.329357010863,\n",
       "  5: 5170.826748838139,\n",
       "  7: 5549.6778942197925,\n",
       "  9: 5373.815956536121},\n",
       " 'peak-rpm': {1: 6007.363005096329,\n",
       "  3: 5253.248906893502,\n",
       "  5: 5992.944764178959,\n",
       "  7: 6315.269530802599,\n",
       "  9: 6082.996226986407},\n",
       " 'stroke': {1: 7063.64661223224,\n",
       "  3: 4813.257911314678,\n",
       "  5: 4962.983984509722,\n",
       "  7: 5232.537320868883,\n",
       "  9: 5373.15490830786},\n",
       " 'symboling': {1: 6835.762073463353,\n",
       "  3: 4664.69730425006,\n",
       "  5: 4810.167749985441,\n",
       "  7: 4941.916557880254,\n",
       "  9: 5027.162258240628},\n",
       " 'wheel-base': {1: 4239.563761461785,\n",
       "  3: 4285.42843216664,\n",
       "  5: 3934.588778830642,\n",
       "  7: 4026.258534860972,\n",
       "  9: 4052.5122965556275},\n",
       " 'width': {1: 3011.6234513132613,\n",
       "  3: 2297.830040071623,\n",
       "  5: 2412.4539472288375,\n",
       "  7: 2396.7224132709885,\n",
       "  9: 2547.6130116441873}}"
      ]
     },
     "execution_count": 12,
     "metadata": {},
     "output_type": "execute_result"
    }
   ],
   "source": [
    "def knn_train_test(train_name, target_name, df):\n",
    "    \n",
    "    np.random.seed(1)\n",
    "    \n",
    "    shuffled_index = np.random.permutation(df.index)\n",
    "    rand_df = df.reindex(shuffled_index)\n",
    "    mid = int(len(rand_df) / 2)\n",
    "    \n",
    "    train_df = rand_df.iloc[0:mid]\n",
    "    test_df = rand_df.iloc[mid:]\n",
    "    \n",
    "    k_values = [1,3,5,7,9]\n",
    "    k_rmses = {}\n",
    "    \n",
    "    for i in k_values:\n",
    "        \n",
    "        knn = KNeighborsRegressor(n_neighbors = i)\n",
    "        knn.fit(train_df[[train_name]], train_df[target_name])\n",
    "\n",
    "        labels = knn.predict(test_df[[train_name]])\n",
    "    \n",
    "        mse = mean_squared_error(test_df[target_name], labels)\n",
    "        rmse = np.sqrt(mse)\n",
    "        k_rmses[i] = rmse\n",
    "    \n",
    "    return k_rmses\n",
    "\n",
    "k_rmse_results = {}\n",
    "tr_cols = new_cars.columns.drop('price')\n",
    "\n",
    "for i in tr_cols:\n",
    "    k_rmse_val = knn_train_test(i, 'price', new_cars)\n",
    "    k_rmse_results[i] = k_rmse_val\n",
    "\n",
    "k_rmse_results"
   ]
  },
  {
   "cell_type": "code",
   "execution_count": 13,
   "metadata": {
    "collapsed": false
   },
   "outputs": [
    {
     "data": {
      "image/png": "[encoded data removed]",
      "text/plain": [
       "<matplotlib.figure.Figure at 0x7fd0e4ccadd8>"
      ]
     },
     "metadata": {},
     "output_type": "display_data"
    }
   ],
   "source": [
    "%matplotlib inline\n",
    "\n",
    "for k,v in k_rmse_results.items():\n",
    "    x = list(v.keys())\n",
    "    y = list(v.values())\n",
    "    \n",
    "    plt.plot(x,y)\n",
    "    plt.xlabel('k value')\n",
    "    plt.ylabel('RMSE')"
   ]
  },
  {
   "cell_type": "markdown",
   "metadata": {},
   "source": [
    "## Get best # features using knn"
   ]
  },
  {
   "cell_type": "code",
   "execution_count": 14,
   "metadata": {
    "collapsed": false
   },
   "outputs": [],
   "source": [
    "feature_avg_rmse = {}\n",
    "\n",
    "tr_cols = new_cars.columns.drop('price')"
   ]
  },
  {
   "cell_type": "code",
   "execution_count": 15,
   "metadata": {
    "collapsed": false
   },
   "outputs": [
    {
     "data": {
      "text/plain": [
       "{'2 best features': 4747.811146096694,\n",
       " '3 best features': 3611.4283253997996,\n",
       " '4 best features': 3601.6747914685466,\n",
       " '5 best features': 3091.9556423888102}"
      ]
     },
     "execution_count": 15,
     "metadata": {},
     "output_type": "execute_result"
    }
   ],
   "source": [
    "def knn_train_test(train_name, target_name, df):\n",
    "    np.random.seed(1)\n",
    "    \n",
    "    shuffled_index = np.random.permutation(df.index)\n",
    "    rand_df = df.reindex(shuffled_index)\n",
    "    mid = int(len(rand_df) / 2)\n",
    "    \n",
    "    train_df = rand_df.iloc[0:mid]\n",
    "    test_df = rand_df.iloc[mid:]\n",
    " \n",
    "    knn = KNeighborsRegressor(n_neighbors = 5)\n",
    "    knn.fit(train_df[train_name], train_df[target_name])\n",
    "\n",
    "    labels = knn.predict(test_df[train_name])\n",
    "    \n",
    "    mse = mean_squared_error(test_df[target_name], labels)\n",
    "    rmse = np.sqrt(mse) \n",
    "    \n",
    "    return rmse\n",
    "\n",
    "k_rmse_results = {}\n",
    "\n",
    "for i in range(2,6):\n",
    "    k_rmse_results['{} best features'.format(i)] = knn_train_test(\n",
    "        tr_cols[:i].tolist(), 'price', new_cars)\n",
    "k_rmse_results"
   ]
  },
  {
   "cell_type": "code",
   "execution_count": 16,
   "metadata": {
    "collapsed": false
   },
   "outputs": [
    {
     "data": {
      "text/plain": [
       "{'2 best features': {1: 3996.701977881263,\n",
       "  2: 4076.217031068758,\n",
       "  3: 4074.996559473667,\n",
       "  4: 4517.897469371123,\n",
       "  5: 4747.811146096694,\n",
       "  6: 4983.33007420462,\n",
       "  7: 4907.11944146004,\n",
       "  8: 4800.696728222601,\n",
       "  9: 4944.4010665232045,\n",
       "  10: 4752.764157387783,\n",
       "  11: 4562.845087198636,\n",
       "  12: 4483.1919276124045,\n",
       "  13: 4444.9942256986205,\n",
       "  14: 4449.42406860519,\n",
       "  15: 4427.278636237942,\n",
       "  16: 4334.9493847573585,\n",
       "  17: 4350.6270703069395,\n",
       "  18: 4417.130830876909,\n",
       "  19: 4568.441208965964,\n",
       "  20: 4641.237857164966,\n",
       "  21: 4683.32735789255,\n",
       "  22: 4740.7042205227735,\n",
       "  23: 4836.836503652683,\n",
       "  24: 4943.260943533061},\n",
       " '3 best features': {1: 3589.6473869309225,\n",
       "  2: 3540.174050717704,\n",
       "  3: 3534.193238130089,\n",
       "  4: 3713.327548338552,\n",
       "  5: 3611.4283253997996,\n",
       "  6: 3681.5692681303267,\n",
       "  7: 3720.690558881373,\n",
       "  8: 3874.9028212864982,\n",
       "  9: 3896.66492312954,\n",
       "  10: 3868.1034713248046,\n",
       "  11: 3953.071539222997,\n",
       "  12: 3932.0597877769846,\n",
       "  13: 3867.753864118342,\n",
       "  14: 3875.6567304501004,\n",
       "  15: 3842.955205943583,\n",
       "  16: 3815.310138805683,\n",
       "  17: 3825.0413292766843,\n",
       "  18: 3855.6567942450106,\n",
       "  19: 3845.054425565513,\n",
       "  20: 3852.5270029269423,\n",
       "  21: 3864.6499179624316,\n",
       "  22: 3889.1893976131064,\n",
       "  23: 3954.343554674176,\n",
       "  24: 3994.8866238958667},\n",
       " '4 best features': {1: 3388.6527429791327,\n",
       "  2: 3471.2561703222077,\n",
       "  3: 3506.625665753649,\n",
       "  4: 3470.8738474401157,\n",
       "  5: 3601.6747914685466,\n",
       "  6: 3636.150774256343,\n",
       "  7: 3581.5542827600902,\n",
       "  8: 3523.139395787291,\n",
       "  9: 3587.2049835465887,\n",
       "  10: 3576.576889062361,\n",
       "  11: 3458.9383952162007,\n",
       "  12: 3466.0726774022964,\n",
       "  13: 3378.471549228986,\n",
       "  14: 3380.291559755472,\n",
       "  15: 3466.171537958783,\n",
       "  16: 3481.593333404834,\n",
       "  17: 3473.2490159402773,\n",
       "  18: 3473.3822871285824,\n",
       "  19: 3522.0797212557363,\n",
       "  20: 3576.8043430204566,\n",
       "  21: 3583.191689262679,\n",
       "  22: 3629.713077161976,\n",
       "  23: 3688.616649495159,\n",
       "  24: 3742.2235548077547},\n",
       " '5 best features': {1: 2745.579674677098,\n",
       "  2: 2924.7242487540598,\n",
       "  3: 2975.5980404972565,\n",
       "  4: 3272.0159002612595,\n",
       "  5: 3091.9556423888102,\n",
       "  6: 3021.3222631338635,\n",
       "  7: 3204.3482713545127,\n",
       "  8: 3301.4909646178235,\n",
       "  9: 3372.314599800983,\n",
       "  10: 3343.853929151212,\n",
       "  11: 3310.5581298624475,\n",
       "  12: 3358.1908998434956,\n",
       "  13: 3404.274983558677,\n",
       "  14: 3385.3243151411984,\n",
       "  15: 3364.175353072759,\n",
       "  16: 3361.602446011321,\n",
       "  17: 3343.7554758419733,\n",
       "  18: 3392.469848029849,\n",
       "  19: 3433.115377776581,\n",
       "  20: 3471.5265692037415,\n",
       "  21: 3507.6587285995856,\n",
       "  22: 3507.597662328111,\n",
       "  23: 3506.619665052201,\n",
       "  24: 3569.665654439293}}"
      ]
     },
     "execution_count": 16,
     "metadata": {},
     "output_type": "execute_result"
    }
   ],
   "source": [
    "def knn_train_test(train_name, target_name, df):\n",
    "    np.random.seed(1)\n",
    "    \n",
    "    shuffled_index = np.random.permutation(df.index)\n",
    "    rand_df = df.reindex(shuffled_index)\n",
    "    mid = int(len(rand_df) / 2)\n",
    "    \n",
    "    train_df = rand_df.iloc[0:mid]\n",
    "    test_df = rand_df.iloc[mid:]\n",
    "    k_rmses = {}\n",
    "    for i in range(1,25):\n",
    "        knn = KNeighborsRegressor(n_neighbors = i)\n",
    "        knn.fit(train_df[train_name], train_df[target_name])\n",
    "\n",
    "        labels = knn.predict(test_df[train_name])\n",
    "    \n",
    "        mse = mean_squared_error(test_df[target_name], labels)\n",
    "        rmse = np.sqrt(mse) \n",
    "        k_rmses[i] = rmse\n",
    "    return k_rmses\n",
    "\n",
    "k_rmse_results = {}\n",
    "\n",
    "for i in range(2,6):\n",
    "    k_rmse_results['{} best features'.format(i)] = knn_train_test(\n",
    "        tr_cols[:i].tolist(), 'price', new_cars)\n",
    "k_rmse_results"
   ]
  },
  {
   "cell_type": "code",
   "execution_count": 17,
   "metadata": {
    "collapsed": false
   },
   "outputs": [
    {
     "data": {
      "text/plain": [
       "<matplotlib.legend.Legend at 0x7fd0e2c1ceb8>"
      ]
     },
     "execution_count": 17,
     "metadata": {},
     "output_type": "execute_result"
    },
    {
     "data": {
      "image/png": "[encoded data removed]",
      "text/plain": [
       "<matplotlib.figure.Figure at 0x7fd0e2c1c860>"
      ]
     },
     "metadata": {},
     "output_type": "display_data"
    }
   ],
   "source": [
    "for k,v in k_rmse_results.items():\n",
    "    x = list(v.keys())\n",
    "    y = list(v.values())  \n",
    "    plt.plot(x,y, label=\"{}\".format(k))\n",
    "    \n",
    "plt.xlabel('k value')\n",
    "plt.ylabel('RMSE')\n",
    "plt.legend()"
   ]
  }
 ],
 "metadata": {
  "kernelspec": {
   "display_name": "Python 3",
   "language": "python",
   "name": "python3"
  },
  "language_info": {
   "codemirror_mode": {
    "name": "ipython",
    "version": 3
   },
   "file_extension": ".py",
   "mimetype": "text/x-python",
   "name": "python",
   "nbconvert_exporter": "python",
   "pygments_lexer": "ipython3",
   "version": "3.4.3"
  }
 },
 "nbformat": 4,
 "nbformat_minor": 2
}
